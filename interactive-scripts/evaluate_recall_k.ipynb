{
 "cells": [
  {
   "cell_type": "markdown",
   "metadata": {},
   "source": [
    "# Retrieve Text"
   ]
  },
  {
   "cell_type": "code",
   "execution_count": 1,
   "metadata": {},
   "outputs": [],
   "source": [
    "import numpy as np\n",
    "import faiss\n",
    "import pandas as pd\n",
    "\n",
    "data_path = \"/home/horton/local-repo/demo-run-clip/data-windows/stage03_image_caption/clip-roberta\"\n",
    "# data_path = \"/home/horton/local-repo/demo-run-clip/data-windows/stage03_image_caption/sclip-finetuned\"\n",
    "\n",
    "# Load data\n",
    "df = pd.read_parquet(data_path, engine=\"pyarrow\")[:100]"
   ]
  },
  {
   "cell_type": "code",
   "execution_count": 2,
   "metadata": {},
   "outputs": [
    {
     "data": {
      "text/plain": [
       "Index(['document_id', 'caption', 'image_path', 'image_type', 'first_level_dir',\n",
       "       'second_level_dir', 'fit_context', 'image_file_exist', 'original_index',\n",
       "       'encoded_caption', 'encoded_image', 'load_status'],\n",
       "      dtype='object')"
      ]
     },
     "execution_count": 2,
     "metadata": {},
     "output_type": "execute_result"
    }
   ],
   "source": [
    "df.columns"
   ]
  },
  {
   "cell_type": "code",
   "execution_count": 3,
   "metadata": {},
   "outputs": [
    {
     "name": "stdout",
     "output_type": "stream",
     "text": [
      "           4|       0.0200\n",
      "           6|       0.0300\n",
      "           8|       0.0500\n",
      "          10|       0.0700\n",
      "          12|       0.0900\n",
      "          14|       0.1000\n",
      "          16|       0.1200\n",
      "          18|       0.1300\n",
      "          20|       0.1600\n",
      "          22|       0.1600\n",
      "          24|       0.1700\n",
      "          26|       0.1700\n",
      "          28|       0.1800\n",
      "          30|       0.2200\n",
      "          32|       0.2500\n",
      "          34|       0.2600\n",
      "          36|       0.2700\n",
      "          38|       0.3200\n",
      "          40|       0.3500\n",
      "          42|       0.3700\n",
      "          44|       0.4100\n",
      "          46|       0.4600\n",
      "          48|       0.4600\n",
      "          50|       0.5000\n",
      "          52|       0.5200\n",
      "          54|       0.5300\n",
      "          56|       0.5800\n",
      "          58|       0.5900\n",
      "          60|       0.6100\n",
      "          62|       0.6500\n",
      "          64|       0.6800\n",
      "          66|       0.7200\n",
      "          68|       0.7300\n",
      "          70|       0.7400\n",
      "          72|       0.7600\n",
      "          74|       0.7900\n",
      "          76|       0.8000\n",
      "          78|       0.8300\n",
      "          80|       0.8500\n",
      "          82|       0.8700\n",
      "          84|       0.8900\n",
      "          86|       0.8900\n",
      "          88|       0.9100\n",
      "          90|       0.9200\n",
      "          92|       0.9400\n",
      "          94|       0.9500\n",
      "          96|       0.9700\n",
      "          98|       1.0000\n"
     ]
    }
   ],
   "source": [
    "# Create Indexes\n",
    "# Build classifier\n",
    "vectors = np.asarray(list(df[\"encoded_caption\"]))\n",
    "vector_dimension = 512\n",
    "index = faiss.IndexFlatL2(vector_dimension)\n",
    "faiss.normalize_L2(vectors)\n",
    "index.add(vectors)\n",
    "\n",
    "def retrieve_text(encoded_image, k=4):\n",
    "    search_key = np.asarray([encoded_image])\n",
    "    faiss.normalize_L2(search_key)\n",
    "    # Search\n",
    "    _, ann = index.search(search_key, k=k)\n",
    "    return set(ann[0])\n",
    "\n",
    "from sklearn.metrics import accuracy_score\n",
    "\n",
    "def evalSearch(df, k, samples):\n",
    "    sample_set = df[:samples].copy()\n",
    "    y_true = list(sample_set[\"original_index\"])\n",
    "\n",
    "    sample_set[\"top_k_set\"] = sample_set.apply(lambda row: retrieve_text(row[\"encoded_image\"], k), axis=1)\n",
    "    y_pred = sample_set.apply(lambda row: row[\"original_index\"] if row[\"original_index\"] in row[\"top_k_set\"] else list(row[\"top_k_set\"])[0], axis=1)\n",
    "\n",
    "    print(\"{:12d}| {:12.4f}\".format(k, accuracy_score(y_true, y_pred)))\n",
    "    # return sample_set\n",
    "\n",
    "for i in range(4, 100, 2):\n",
    "    evalSearch(df, i, 100)"
   ]
  },
  {
   "cell_type": "code",
   "execution_count": null,
   "metadata": {},
   "outputs": [],
   "source": []
  },
  {
   "cell_type": "code",
   "execution_count": null,
   "metadata": {},
   "outputs": [],
   "source": []
  }
 ],
 "metadata": {
  "kernelspec": {
   "display_name": "clip-hf",
   "language": "python",
   "name": "python3"
  },
  "language_info": {
   "codemirror_mode": {
    "name": "ipython",
    "version": 3
   },
   "file_extension": ".py",
   "mimetype": "text/x-python",
   "name": "python",
   "nbconvert_exporter": "python",
   "pygments_lexer": "ipython3",
   "version": "3.10.13"
  },
  "orig_nbformat": 4
 },
 "nbformat": 4,
 "nbformat_minor": 2
}
